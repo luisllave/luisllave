{
 "cells": [
  {
   "cell_type": "markdown",
   "metadata": {},
   "source": [
    "# NUMBER 1"
   ]
  },
  {
   "cell_type": "code",
   "execution_count": 1,
   "metadata": {},
   "outputs": [
    {
     "name": "stdout",
     "output_type": "stream",
     "text": [
      "Enter number of rows: 4\n",
      "<table>\n",
      "<tr class=\"lightyellowrow\"><td>1</td><td>1</td></tr>\n",
      "<tr class=\"lightyellowrow\"><td>3</td><td>9</td></tr>\n",
      "<tr class=\"whiterow\"><td>4</td><td>16</td></tr>\n",
      "</table>\n"
     ]
    }
   ],
   "source": [
    "n = int(input(\"Enter number of rows: \"))\n",
    "\n",
    "print(\"<table>\")\n",
    "for i in range (1,1+n):\n",
    "    if i % 2 == 1:\n",
    "        print('<tr class=\"lightyellowrow\"><td>'+str(i)+\"</td><td>\"+str(i**2)+\"</td></tr>\")\n",
    "else:\n",
    "    print('<tr class=\"whiterow\"><td>'+str(i)+\"</td><td>\"+str(i**2)+\"</td></tr>\")\n",
    "print(\"</table>\")\n"
   ]
  },
  {
   "cell_type": "markdown",
   "metadata": {},
   "source": [
    "# NUMBER 2"
   ]
  },
  {
   "cell_type": "code",
   "execution_count": null,
   "metadata": {},
   "outputs": [],
   "source": [
    "day = int(input(\"Day: \"))\n",
    "month = int(input(\"Month: \"))\n",
    "year = int(input(\"Year: \"))\n",
    "\n",
    "daylastdigit = int(str(day)[-1])\n",
    "if daylastdigit == 1:\n",
    "    sfx = \"st\"\n",
    "elif daylastdigit == 2:\n",
    "    sfx = \"nd\"\n",
    "elif daylastdigit == 3:\n",
    "    sfx = \"rd\"\n",
    "else:\n",
    "    sfx = \"th\"\n",
    "    \n",
    "if month == 1:\n",
    "    mnth = \"January\"\n",
    "elif month == 2:\n",
    "    mnth = \"February\"\n",
    "elif month == 3:\n",
    "    mnth = \"March\"\n",
    "elif month == 4:\n",
    "    mnth = \"April\"\n",
    "elif month == 5:\n",
    "    mnth = \"May\"\n",
    "elif month == 6:\n",
    "    mnth = \"June\"\n",
    "elif month == 7:\n",
    "    mnth = \"July\"\n",
    "elif month == 8:\n",
    "    mnth = \"August\"\n",
    "elif month == 9:\n",
    "    mnth = \"September\"\n",
    "elif month == 10:\n",
    "    mnth = \"October\"\n",
    "elif month == 11:\n",
    "    mnth = \"November\"\n",
    "elif month == 12:\n",
    "    mnth = \"December\"\n",
    "    \n",
    "if month < 1 and month > 12:\n",
    "    print(\"Date is not valid\")\n",
    "elif month == 4 and day > 30: \n",
    "    print(\"Date is not valid\")\n",
    "elif month == 6 and day > 30:\n",
    "    print(\"Date is not valid\")\n",
    "elif month == 9 and day > 30:\n",
    "    print(\"Date is not valid\")\n",
    "elif month == 11 and day > 30:\n",
    "    print(\"Date is not valid\")\n",
    "elif month == 2 and day > 29:\n",
    "    print(\"Date is not valid\")\n",
    "# Leap year when year is divisible by both 4 and 100, or when divisible by 400\n",
    "elif year % 4 != 0 and year % 100 != 0 and month == 2 and day >=29:\n",
    "    print(\"Date is not valid\")\n",
    "elif year % 400 != 0 and month == 2 and day >=29:\n",
    "    print(\"Date is not valid\")\n",
    "else: print(\"It is the \"+str(day)+str(sfx)+\" day of the month of \"+str(mnth)+\" of the year \"+str(year))\n",
    "    \n",
    "    \n",
    "    "
   ]
  },
  {
   "cell_type": "markdown",
   "metadata": {},
   "source": [
    "# NUMBER 3"
   ]
  },
  {
   "cell_type": "code",
   "execution_count": null,
   "metadata": {},
   "outputs": [],
   "source": [
    "def obedient(n):\n",
    "    if n <= 3:\n",
    "        return str(False)\n",
    "    elif n % 3 == 0 and n > 3:\n",
    "        return str(True)\n",
    "    else:\n",
    "        return str(False)\n",
    "    \n",
    "obedient(1)"
   ]
  },
  {
   "cell_type": "markdown",
   "metadata": {},
   "source": [
    "# NUMBER 4"
   ]
  },
  {
   "cell_type": "code",
   "execution_count": null,
   "metadata": {
    "scrolled": true
   },
   "outputs": [],
   "source": [
    "def multtable(n):\n",
    "    for i in range (1, n+1):\n",
    "        for j in range (1, n+1):\n",
    "            print (i*j, end=\"\\t\")\n",
    "        print()\n",
    "        \n",
    "multtable(4)"
   ]
  },
  {
   "cell_type": "markdown",
   "metadata": {},
   "source": [
    "# NUMBER 5"
   ]
  },
  {
   "cell_type": "code",
   "execution_count": 1,
   "metadata": {},
   "outputs": [
    {
     "name": "stdout",
     "output_type": "stream",
     "text": [
      "Do you prefer (a) the mountains, (b) the city, or (c) the beach? a\n",
      "Do you prefer (a) yoghurt, (b) ice cream, or (c) gelato? a\n",
      "Do you prefer (a) reading, (b) singing, or (c) writing? a\n",
      "Do you prefer (a) sweet, (b) salty, or (c) spicy food? a\n",
      "Do you prefer (a) cats, (b) dogs, or (c) fish? a\n",
      "Your element is Earth\n"
     ]
    }
   ],
   "source": [
    "i=0\n",
    "\n",
    "while i<5:\n",
    "    fire=0\n",
    "    water=0\n",
    "    earth=0\n",
    "    one=input(\"Do you prefer (a) the mountains, (b) the city, or (c) the beach? \")\n",
    "    if one==\"a\":\n",
    "        fire+=1\n",
    "        i+=1\n",
    "    elif one==\"b\":\n",
    "        earth+=1\n",
    "        i+=1\n",
    "    elif one==\"c\":\n",
    "        water+=1\n",
    "    else:\n",
    "        print(\"Sorry, you inputted a wrong letter. Please start again.\")\n",
    "        i = 0\n",
    "        continue\n",
    "        \n",
    "    two=input(\"Do you prefer (a) yoghurt, (b) ice cream, or (c) gelato? \")\n",
    "    if two==\"a\":\n",
    "        earth+=1\n",
    "        i+=1\n",
    "    elif two==\"b\":\n",
    "        water+=1\n",
    "        i+=1\n",
    "    elif two==\"c\":\n",
    "        fire+=1\n",
    "    else:\n",
    "        print(\"Sorry, you inputted a wrong letter. Please start again.\")\n",
    "        i = 0\n",
    "        continue\n",
    "        \n",
    "    three=input(\"Do you prefer (a) reading, (b) singing, or (c) writing? \")\n",
    "    if three==\"a\":\n",
    "        water+=1\n",
    "        i+=1\n",
    "    elif three==\"b\":\n",
    "        fire+=1\n",
    "        i+=1\n",
    "    elif three==\"c\":\n",
    "        earth+=1\n",
    "    else:\n",
    "        print(\"Sorry, you inputted a wrong letter. Please start again.\")\n",
    "        i = 0\n",
    "        continue\n",
    "        \n",
    "    four =input(\"Do you prefer (a) sweet, (b) salty, or (c) spicy food? \")\n",
    "    if four==\"a\":\n",
    "        earth+=1\n",
    "        i+=1\n",
    "    elif four==\"b\":\n",
    "        water+=1\n",
    "        i+=1\n",
    "    elif four==\"c\":\n",
    "        fire+=1\n",
    "    else:\n",
    "        print(\"Sorry, you inputted a wrong letter. Please start again.\")\n",
    "        i = 0\n",
    "        continue\n",
    "        \n",
    "    five =input(\"Do you prefer (a) cats, (b) dogs, or (c) fish? \")\n",
    "    if five==\"a\":\n",
    "        earth+=1\n",
    "        i+=1\n",
    "    elif five==\"b\":\n",
    "        fire+=1\n",
    "        i+=1\n",
    "    elif five==\"c\":\n",
    "        water+=1\n",
    "    else:\n",
    "        print(\"Sorry, you inputted a wrong letter. Please start again.\")\n",
    "        i = 0\n",
    "        continue\n",
    "        \n",
    "    if fire > water and fire > earth:\n",
    "        print(\"Your element is Fire\")\n",
    "    elif water > fire and water > earth:\n",
    "        print(\"Your element is Water\")\n",
    "    elif earth > water and earth > fire:\n",
    "        print(\"Your element is Earth\")\n",
    "    elif fire > water and earth > water and fire==earth:\n",
    "        print(\"Your element is Earth\")\n",
    "    elif water > fire and earth > fire and water==earth:\n",
    "        print(\"Your element is Water\")\n",
    "    elif fire > earth and water > earth and fire==water:\n",
    "        print(\"Your element is Fire\")\n",
    "        \n",
    "    break"
   ]
  }
 ],
 "metadata": {
  "kernelspec": {
   "display_name": "Python 3",
   "language": "python",
   "name": "python3"
  },
  "language_info": {
   "codemirror_mode": {
    "name": "ipython",
    "version": 3
   },
   "file_extension": ".py",
   "mimetype": "text/x-python",
   "name": "python",
   "nbconvert_exporter": "python",
   "pygments_lexer": "ipython3",
   "version": "3.7.6"
  }
 },
 "nbformat": 4,
 "nbformat_minor": 4
}
