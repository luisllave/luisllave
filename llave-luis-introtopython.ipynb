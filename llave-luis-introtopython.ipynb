{
 "cells": [
  {
   "cell_type": "markdown",
   "metadata": {},
   "source": [
    "195586\n",
    "Llave\n",
    "2 BS ME"
   ]
  },
  {
   "cell_type": "code",
   "execution_count": 1,
   "metadata": {},
   "outputs": [],
   "source": [
    "def three_number_average(firstint,secondint,thirdint):\n",
    "    return (firstint+secondint+thirdint)/3"
   ]
  },
  {
   "cell_type": "code",
   "execution_count": null,
   "metadata": {},
   "outputs": [],
   "source": [
    "# ask for first positive integer\n",
    "firstint = int(input(\"Enter first number: \"))\n",
    "if firstint < 0:\n",
    "    myError = ValueError('Only Positive Integers')\n",
    "    raise myError\n",
    "\n",
    "# ask for second positive integer\n",
    "secondint = int(input(\"Enter second number: \"))\n",
    "if secondint < 0:\n",
    "    myError = ValueError('Only Positive Integers')\n",
    "    raise myError\n",
    "\n",
    "# ask for third positive integer\n",
    "thirdint = int(input(\"Enter third number: \"))\n",
    "if thirdint < 0:\n",
    "    myError = ValueError('Only Positive Integers')\n",
    "    raise myError\n",
    "\n",
    "# compute for average\n",
    "average = three_number_average(firstint,secondint,thirdint)\n",
    "\n",
    "# display average\n",
    "print(\"The average is \",average)"
   ]
  }
 ],
 "metadata": {
  "kernelspec": {
   "display_name": "Python 3",
   "language": "python",
   "name": "python3"
  },
  "language_info": {
   "codemirror_mode": {
    "name": "ipython",
    "version": 3
   },
   "file_extension": ".py",
   "mimetype": "text/x-python",
   "name": "python",
   "nbconvert_exporter": "python",
   "pygments_lexer": "ipython3",
   "version": "3.7.6"
  }
 },
 "nbformat": 4,
 "nbformat_minor": 4
}
