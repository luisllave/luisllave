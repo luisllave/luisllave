{
 "cells": [
  {
   "cell_type": "markdown",
   "metadata": {},
   "source": [
    "195586\n",
    "Llave\n",
    "2 BS ME"
   ]
  },
  {
   "cell_type": "code",
   "execution_count": 1,
   "metadata": {},
   "outputs": [
    {
     "name": "stdout",
     "output_type": "stream",
     "text": [
      "Enter the amount in US Dollars: 20\n",
      "20.0 US dollar(s) =  1000.0 Philippine Pesos.\n"
     ]
    }
   ],
   "source": [
    "# PROBLEM 1\n",
    "\n",
    "def dollars_to_peso(USD):\n",
    "    return(USD*50)\n",
    "\n",
    "# ask for amount in USD\n",
    "USD = float(input(\"Enter the amount in US Dollars: \"))\n",
    "\n",
    "# convert\n",
    "PHP = dollars_to_peso(USD)\n",
    "\n",
    "# display\n",
    "print (USD,\"US dollar(s) = \",PHP,\"Philippine Pesos.\")"
   ]
  },
  {
   "cell_type": "code",
   "execution_count": 2,
   "metadata": {},
   "outputs": [
    {
     "name": "stdout",
     "output_type": "stream",
     "text": [
      "55\n",
      "3\n",
      "58\n",
      "52\n",
      "165\n",
      "18\n",
      "1\n"
     ]
    }
   ],
   "source": [
    "# PROBLEM 2\n",
    "\n",
    "# ask for value a\n",
    "a = int(input())\n",
    "    \n",
    "# ask for value b\n",
    "b = int(input())\n",
    "\n",
    "# line 1\n",
    "line1 = a + b\n",
    "print(line1)\n",
    "\n",
    "# line 2\n",
    "line2 = a - b\n",
    "print(line2)\n",
    "\n",
    "# line 3\n",
    "line3 = a * b\n",
    "print(line3)\n",
    "\n",
    "# line 4\n",
    "line4 = a // b\n",
    "print(line4)\n",
    "\n",
    "# line 5\n",
    "line5 = a % b\n",
    "print(line5)"
   ]
  },
  {
   "cell_type": "code",
   "execution_count": 3,
   "metadata": {},
   "outputs": [
    {
     "name": "stdout",
     "output_type": "stream",
     "text": [
      "Enter kg: 65\n",
      "Enter cm: 180\n",
      "BMI:  20.061728395061728\n"
     ]
    }
   ],
   "source": [
    "# PROBLEM 3\n",
    "\n",
    "def convert_cm_to_m(cm):\n",
    "    return (cm/100)\n",
    "\n",
    "def compute_bmi(kg,m):\n",
    "    return (kg/(m**2))\n",
    "\n",
    "# ask for weight\n",
    "kg = float(input(\"Enter kg: \"))\n",
    "\n",
    "# ask for height\n",
    "cm = float(input(\"Enter cm: \"))\n",
    "           \n",
    "# convert cm to m\n",
    "m = convert_cm_to_m(cm)\n",
    "\n",
    "# calculate BMI\n",
    "bmi = compute_bmi(kg,m)\n",
    "\n",
    "# display\n",
    "print(\"BMI: \",bmi)"
   ]
  }
 ],
 "metadata": {
  "kernelspec": {
   "display_name": "Python 3",
   "language": "python",
   "name": "python3"
  },
  "language_info": {
   "codemirror_mode": {
    "name": "ipython",
    "version": 3
   },
   "file_extension": ".py",
   "mimetype": "text/x-python",
   "name": "python",
   "nbconvert_exporter": "python",
   "pygments_lexer": "ipython3",
   "version": "3.7.6"
  }
 },
 "nbformat": 4,
 "nbformat_minor": 4
}
