{
 "cells": [
  {
   "cell_type": "markdown",
   "metadata": {},
   "source": [
    "# Online Business Starter Kit\n",
    "\n",
    "Welcome to your online business starter kit! Here, we will help you build up your online business from scratch. From inventory making, to a selling system with a digital receipt, we shall guide you throughout this process!"
   ]
  },
  {
   "cell_type": "markdown",
   "metadata": {},
   "source": [
    "## 1) Fill up your first inventory\n",
    "\n",
    "To create your inventory, provide a name for your inventory by filling the blanks guided by the # comments.\n",
    "\n",
    "Then, run the cell below (Shift + Return/Enter)."
   ]
  },
  {
   "cell_type": "markdown",
   "metadata": {},
   "source": [
    "#### \"INVENTORY MAKER\" CELL:"
   ]
  },
  {
   "cell_type": "code",
   "execution_count": 13,
   "metadata": {},
   "outputs": [
    {
     "name": "stdout",
     "output_type": "stream",
     "text": [
      "Press (Y) to add item to inventory:   g\n",
      "------------------------------------------\n",
      "Here if your current inventory:\n",
      "Name of inventory: inventory\n",
      "\n",
      "Empty DataFrame\n",
      "Columns: []\n",
      "Index: []\n"
     ]
    }
   ],
   "source": [
    "inventory = {}\n",
    "\n",
    "# ^ change inventory to the name of your inventory\n",
    "\n",
    "command = input(\"Enter (Y) to add item to inventory:   \").upper()\n",
    "\n",
    "while command == \"Y\":\n",
    "    product_code = str(input(\"Enter product code:  \"))\n",
    "    product_name = str(input(\"Enter product name:  \"))\n",
    "    product_price = float(input(\"Enter product price:  \"))\n",
    "    product_quantity = int(input(\"Enter product quantity:  \"))\n",
    "    \n",
    "    def enter_product(code, name, price, quantity):\n",
    "        details = {}\n",
    "        details[\"name\"] = name\n",
    "        details[\"price\"] = price\n",
    "        details[\"quantity\"] = quantity\n",
    "        entry = {code:details}\n",
    "        inventory.update(entry)\n",
    "          # ^ change inventory to the name of your inventory\n",
    "\n",
    "        \n",
    "    enter_product(product_code, product_name, product_price, product_quantity)\n",
    "    command = input(\"Add another product? Y - Yes and N - End inventory edit:    \")\n",
    "\n",
    "print(\"------------------------------------------\")\n",
    "print(\"Here if your current inventory:\")\n",
    "print(\"Name of inventory: \"+\"inventory\"+\"\\n\")\n",
    "                             # ^ change inventory to the name of your inventory in between the quotation marks\n",
    "import pandas as pd\n",
    "\n",
    "inventorydf = pd.DataFrame.from_dict(inventory, orient='columns')\n",
    "\n",
    "print(inventorydf)\n"
   ]
  },
  {
   "cell_type": "markdown",
   "metadata": {},
   "source": [
    "#### In case you have new products you weren't able to put in your inventory before, you may use the code below!\n",
    "\n",
    "Please read all the instructions in hashtags before you run the cell!"
   ]
  },
  {
   "cell_type": "markdown",
   "metadata": {},
   "source": [
    "#### \"ADD TO AN EXISTING INVENTORY\" CELL:"
   ]
  },
  {
   "cell_type": "code",
   "execution_count": 2,
   "metadata": {
    "scrolled": true
   },
   "outputs": [
    {
     "name": "stdout",
     "output_type": "stream",
     "text": [
      "Add product to your inventory? (Y/N):   \n",
      "------------------------------------------\n",
      "Here if your current inventory:\n",
      "\n",
      "             ban\n",
      "name      Banana\n",
      "price         13\n",
      "quantity      23\n"
     ]
    }
   ],
   "source": [
    "# if you want to add more to your inventory, you may run this cell \n",
    "\n",
    "\n",
    "command = input(\"Enter (Y) to add item to inventory:   \")\n",
    "\n",
    "while command == \"Y\":\n",
    "    product_code = str(input(\"Enter product code:  \"))\n",
    "    product_name = str(input(\"Enter product name:  \"))\n",
    "    product_price = float(input(\"Enter product price:  \"))\n",
    "    product_quantity = int(input(\"Enter product quantity:  \"))\n",
    "    \n",
    "    def enter_product(code, name, price, quantity):\n",
    "        details = {}\n",
    "        details[\"name\"] = name\n",
    "        details[\"price\"] = price\n",
    "        details[\"quantity\"] = quantity\n",
    "        entry = {code:details}\n",
    "        inventory.update(entry)\n",
    "        # ^ change inventory to the name of the inventory you want to add to\n",
    "\n",
    "    enter_product(product_code, product_name, product_price, product_quantity)\n",
    "    command = input(\"Add another product? Y - Yes and N - End inventory edit:    \")\n",
    "\n",
    "print(\"------------------------------------------\")\n",
    "print(\"Here if your current inventory:\"+\"\\n\")\n",
    "                            \n",
    "import pandas as pd\n",
    "\n",
    "inventorydf = pd.DataFrame.from_dict(inventory, orient='columns')\n",
    "\n",
    "print(inventorydf)"
   ]
  },
  {
   "cell_type": "markdown",
   "metadata": {},
   "source": [
    "#### RESTOCK CELL:"
   ]
  },
  {
   "cell_type": "code",
   "execution_count": 3,
   "metadata": {},
   "outputs": [
    {
     "name": "stdout",
     "output_type": "stream",
     "text": [
      "Add Stocks? (Y/N)  N\n",
      "------------------------------------------\n",
      "Here if your current inventory:\n",
      "\n",
      "             ban\n",
      "name      Banana\n",
      "price         13\n",
      "quantity      23\n"
     ]
    }
   ],
   "source": [
    "# Run this cell to add stocks to inventory\n",
    "\n",
    "restockques = input(\"Add Stocks? (Y/N)  \")\n",
    "\n",
    "while restockques == \"Y\":\n",
    "    restock_code = input(\"Enter product code:   \")\n",
    "    restock_quantity = input(\"Enter number of new stocks:   \")\n",
    "\n",
    "    inventory[restock_code][\"quantity\"] = inventory[restock_code][\"quantity\"] + int(restock_quantity)\n",
    "    restockques = input(\"Add More Stocks? (Y/N)  \")\n",
    "    \n",
    "if restockques == \"N\":\n",
    "    \n",
    "    print(\"------------------------------------------\")\n",
    "    print(\"Here if your current inventory:\"+\"\\n\")\n",
    "                            \n",
    "    import pandas as pd\n",
    "\n",
    "    inventorydf = pd.DataFrame.from_dict(inventory, orient='columns')\n",
    "\n",
    "    print(inventorydf)\n",
    "\n",
    "else:\n",
    "    print(\"Please input Y or N\")\n",
    "    restockques = input(\"Add Stocks? (Y/N)  \")"
   ]
  },
  {
   "cell_type": "markdown",
   "metadata": {},
   "source": [
    "#### REPRICE CELL:"
   ]
  },
  {
   "cell_type": "code",
   "execution_count": 4,
   "metadata": {
    "scrolled": true
   },
   "outputs": [
    {
     "name": "stdout",
     "output_type": "stream",
     "text": [
      "Change price? (Y/N)  N\n",
      "------------------------------------------\n",
      "Here if your current inventory:\n",
      "\n",
      "             ban\n",
      "name      Banana\n",
      "price         13\n",
      "quantity      23\n"
     ]
    }
   ],
   "source": [
    "# Run this cell to reprice items\n",
    "\n",
    "repriceques = input(\"Change price? (Y/N)  \")\n",
    "\n",
    "while repriceques == \"Y\":\n",
    "    reprice_code = input(\"Enter product code:   \")\n",
    "    new_price = input(\"Enter new price:   \")\n",
    "\n",
    "    inventory[restock_code][\"price\"] = int(new_price)\n",
    "    repriceques = input(\"Change more? (Y/N)  \")\n",
    "\n",
    "if repriceques == \"N\":\n",
    "    print(\"------------------------------------------\")\n",
    "    print(\"Here if your current inventory:\"+\"\\n\")\n",
    "                            \n",
    "    import pandas as pd\n",
    "\n",
    "    inventorydf = pd.DataFrame.from_dict(inventory, orient='columns')\n",
    "    \n",
    "    print(inventorydf)\n",
    "    \n",
    "else:\n",
    "    print(\"Please input Y or N\")\n",
    "    repriceques = input(\"Change price? (Y/N)  \")"
   ]
  },
  {
   "cell_type": "markdown",
   "metadata": {},
   "source": [
    "#### RENAME CELL:"
   ]
  },
  {
   "cell_type": "code",
   "execution_count": 5,
   "metadata": {},
   "outputs": [
    {
     "name": "stdout",
     "output_type": "stream",
     "text": [
      "Change name? (Y/N)  N\n",
      "------------------------------------------\n",
      "Here if your current inventory:\n",
      "\n",
      "             ban\n",
      "name      Banana\n",
      "price         13\n",
      "quantity      23\n"
     ]
    }
   ],
   "source": [
    "# Run this cell to rename products\n",
    "\n",
    "nameques = input(\"Change name? (Y/N)  \")\n",
    "\n",
    "while nameques == \"Y\":\n",
    "    name_code = input(\"Enter product code:   \")\n",
    "    new_name = input(\"Enter new name:   \")\n",
    "\n",
    "\n",
    "    inventory[name_code][\"name\"] = str(new_name)\n",
    "    nameques = input(\"Change more? (Y/N)  \")\n",
    "    \n",
    "if nameques == \"N\":\n",
    "\n",
    "    print(\"------------------------------------------\")\n",
    "    print(\"Here if your current inventory:\"+\"\\n\")\n",
    "                            \n",
    "    import pandas as pd\n",
    "\n",
    "    inventorydf = pd.DataFrame.from_dict(inventory, orient='columns')\n",
    "\n",
    "    print(inventorydf)\n",
    "    \n",
    "else:\n",
    "    print(\"Please input Y or N\")\n",
    "    nameques = input(\"Change name? (Y/N)  \")"
   ]
  },
  {
   "cell_type": "markdown",
   "metadata": {},
   "source": [
    "#### DELETE ITEM CELL:"
   ]
  },
  {
   "cell_type": "code",
   "execution_count": 6,
   "metadata": {
    "scrolled": true
   },
   "outputs": [
    {
     "name": "stdout",
     "output_type": "stream",
     "text": [
      "Delete product? (Y/N)  N\n",
      "------------------------------------------\n",
      "Here if your current inventory:\n",
      "\n",
      "             ban\n",
      "name      Banana\n",
      "price         13\n",
      "quantity      23\n"
     ]
    }
   ],
   "source": [
    "# Run this cell to delete item from inventory\n",
    "\n",
    "deleteques = input(\"Delete product? (Y/N)  \")\n",
    "\n",
    "while deleteques == \"Y\":\n",
    "    delete_code = input('Enter product code:   ')\n",
    "\n",
    "    inventory.pop(delete_code, None)\n",
    "    deleteques = input(\"Delete more? (Y/N)  \")\n",
    "\n",
    "\n",
    "if deleteques == \"N\":\n",
    "    print(\"------------------------------------------\")\n",
    "    print(\"Here if your current inventory:\"+\"\\n\")\n",
    "                            \n",
    "    import pandas as pd\n",
    "\n",
    "    inventorydf = pd.DataFrame.from_dict(inventory, orient='columns')\n",
    "\n",
    "    print(inventorydf)\n",
    "\n",
    "else:\n",
    "    print(\"Please input Y or N\")\n",
    "    deleteques = input(\"Delete product? (Y/N)  \")"
   ]
  },
  {
   "cell_type": "markdown",
   "metadata": {},
   "source": [
    "#### INVENTORY CHECK CELL"
   ]
  },
  {
   "cell_type": "code",
   "execution_count": 7,
   "metadata": {},
   "outputs": [
    {
     "name": "stdout",
     "output_type": "stream",
     "text": [
      "Here if your current inventory:\n",
      "\n",
      "             ban\n",
      "name      Banana\n",
      "price         13\n",
      "quantity      23\n"
     ]
    }
   ],
   "source": [
    "# INV CHECK\n",
    "\n",
    "print(\"Here if your current inventory:\"+\"\\n\")\n",
    "                            \n",
    "import pandas as pd\n",
    "\n",
    "inventorydf = pd.DataFrame.from_dict(inventory, orient='columns')\n",
    "\n",
    "print(inventorydf)"
   ]
  },
  {
   "cell_type": "code",
   "execution_count": null,
   "metadata": {},
   "outputs": [],
   "source": [
    "discount_code_list = [a,a]"
   ]
  },
  {
   "cell_type": "markdown",
   "metadata": {},
   "source": [
    "#### 1.a) Q: \"What if I want to create more inventories in the future?\"\n",
    "####       A: Just copy the contents or duplicate the \"INVENTORY MAKER\" CELL and follow the instructions for making an inventory all over again!"
   ]
  },
  {
   "cell_type": "markdown",
   "metadata": {},
   "source": [
    "## 2) Execute your ordering system\n",
    "\n",
    "To execute your ordering system, you must add the name of your chosen inventory in certain parts of this code (follow # instructions).\n",
    "\n",
    "Then, run the cell!\n",
    "\n",
    "**Note that this ordering system will only apply to one inventory. Copy the contents of the cell below/duplicate the cell below if you want to create an ordering system from another inventory**"
   ]
  },
  {
   "cell_type": "code",
   "execution_count": 9,
   "metadata": {},
   "outputs": [
    {
     "name": "stdout",
     "output_type": "stream",
     "text": [
      "Ordering form. Enter any character to begin. Enter (N) to escape:  s\n",
      "Enter product code: ban\n",
      "Enter quantity: 2\n",
      "Add more items? (Y/N): N\n",
      "Do you have a discount code? (Y/N) N\n",
      "Please enter amount paid: 100\n",
      "\n",
      "\n",
      "\n",
      "- START OF OFFICIAL RECEIPT -\n",
      "\n",
      "\n",
      "-----------------------------------------------------\n",
      "                 Official Receipt                    \n",
      "\n",
      "Product \t Quantity \t Subtotal\n",
      "Banana \t \t 2 \t \t P 26.0\n",
      "\n",
      "\n",
      "Your subtotal is:  P 26.0\n",
      "Discount: N\n",
      "Your total is:  P 26.0\n",
      "Amount paid is:  P 100\n",
      "Change:  P 74\n",
      "2020-08-12 22:52:15.395039\n",
      "-----------------------------------------------------\n",
      "Please proceed to the next window for your payment and shipping.\n",
      "\n",
      " - END OF OFFICIAL RECEIPT -  \n",
      "\n",
      "Ordering form. Enter any character to begin. Enter (N) to escape:  N\n"
     ]
    }
   ],
   "source": [
    "def add_to_cart(cart, ordered_item):\n",
    "    add_to_cart = cart.append(ordered_item)\n",
    "    return add_to_cart\n",
    "\n",
    "cart = []\n",
    "command = \"Y\"\n",
    "while(True):\n",
    "    command = input(\"Ordering form. Enter any character to begin. Enter (N) to escape:  \")\n",
    "    if(command.upper()==\"N\"):\n",
    "        break\n",
    "    else:\n",
    "        add = \"Y\"\n",
    "        while(add==\"Y\"):\n",
    "            \n",
    "            ordered_item = dict()\n",
    "            code = input(\"Enter product code: \")\n",
    "            \n",
    "            \n",
    "            if code in inventory:\n",
    "                ordered_item[\"code\"] = code\n",
    "            else:\n",
    "                print(\"CODE DOES NOT EXIST\")\n",
    "                add = input(\"Add more items? (Y/N): \").upper()\n",
    "                continue\n",
    "            \n",
    "            qty = int(input(\"Enter quantity: \"))\n",
    "            \n",
    "            \n",
    "                \n",
    "            if qty > inventory[code][\"quantity\"]:\n",
    "                print(\"INSUFFICIENT STOCKS\")\n",
    "                input(\"Add more items? (Y/N): \").upper()\n",
    "                continue\n",
    "            else:\n",
    "                ordered_item[\"qty\"] = qty\n",
    "                inventory[code][\"quantity\"] = inventory[code][\"quantity\"] - int(qty)\n",
    "                \n",
    "                \n",
    "            ordered_item[\"subtotal\"] = int(qty) * inventory[code][\"price\"]\n",
    "                                                    \n",
    "            add_to_cart(cart,ordered_item)\n",
    "\n",
    "            add = input(\"Add more items? (Y/N): \").upper()\n",
    "    \n",
    "    if add == \"N\":\n",
    "        \n",
    "        total_payment = 0\n",
    "       \n",
    "        \n",
    "        \n",
    "        for item in cart:\n",
    "            \n",
    "              \n",
    "            total_payment += item[\"subtotal\"]\n",
    "        \n",
    "        disccodeques1 = input(\"Do you have a discount code? (Y/N) \").upper()\n",
    "        if disccodeques1 == \"N\":\n",
    "            finaltotal = total_payment\n",
    "        elif disccodeques1 == \"Y\":\n",
    "            disccodeques2 = input(\"Please enter discount code: \")\n",
    "            \n",
    "            # CALCULATING FOR DISCOUNTED PRICE\n",
    "            if disccodeques2 in discount_code_list:\n",
    "                finaltotal = int(int(total_payment) * 0.85) #REPLACE 0.85 WITH HOWEVER MUCH YOU WANT\n",
    "                \n",
    "                \n",
    "        \n",
    "            else:\n",
    "                print(\"Sorry, incorrect code\")\n",
    "                disccodeques3 = input(\"Try again? (Y/N) \").upper()\n",
    "                \n",
    "                if disccodeques3 == \"Y\":\n",
    "                    disccodeques2 = input(\"Please enter discount code: \")\n",
    "                \n",
    "                elif disccodeques3 == \"N\":\n",
    "                    finaltotal = total_payment\n",
    "                else:\n",
    "                    print(\"Please enter Y or N\")\n",
    "                    disccodeques3 = input(\"Try again? (Y/N) \").upper()\n",
    "                    \n",
    "        else:\n",
    "            print(\"Please enter Y or N\")\n",
    "            disccodeques1 = input(\"Do you have a discount code? (Y/N) \").upper()\n",
    "            \n",
    "            \n",
    "        amountpaid = int(input(\"Please enter amount paid: \"))\n",
    "        \n",
    "        if amountpaid < finaltotal:\n",
    "            print(\"INSUFFICIENT AMOUNT. PLEASE RESTART ORDER FORM. ITEMS WILL BE RETURNED TO INVENTORY\")\n",
    "            print(\"\\n\")\n",
    "            \n",
    "            ordercancel = {x[\"code\"]: x for x in cart}\n",
    "            for x in ordercancel.keys():\n",
    "                if x in inventory.keys():\n",
    "                    inventory[x][\"quantity\"] = inventory[x][\"quantity\"] + ordercancel[x][\"qty\"]\n",
    "\n",
    "            ordercancel = []\n",
    "            cart = []\n",
    "            continue\n",
    "            \n",
    "            \n",
    "            \n",
    "        else:\n",
    "            change = amountpaid - int(finaltotal)\n",
    "                    \n",
    "                \n",
    "                \n",
    "        \n",
    "            print()\n",
    "            print(\"\\n\")\n",
    "            print(\"- START OF OFFICIAL RECEIPT -\")\n",
    "        \n",
    "            print(\"\\n\")\n",
    "            print(\"-----------------------------------------------------\")\n",
    "            print(\"                 Official Receipt                    \")\n",
    "            print()\n",
    "        \n",
    "        \n",
    "            print(\"Product\",\"\\t\",\"Quantity\",\"\\t\",\"Subtotal\")\n",
    "            for item in cart:\n",
    "                print(inventory[item[\"code\"]][\"name\"],\"\\t\",\"\\t\",item[\"qty\"],\"\\t\",\"\\t\",\"P\",item[\"subtotal\"])\n",
    "\n",
    "              \n",
    "            print(\"\\n\")    \n",
    "            \n",
    "            print(\"Your subtotal is: \",\"P\",total_payment)\n",
    "            if disccodeques1 == \"N\":\n",
    "                print(\"Discount: N\")\n",
    "            else:\n",
    "                print(\"Discount: Y\")\n",
    "            print(\"Your total is: \",\"P\",finaltotal)\n",
    "            print(\"Amount paid is: \",\"P\",amountpaid)\n",
    "            print(\"Change: \",\"P\",change)\n",
    "            \n",
    "            \n",
    "            \n",
    "            import datetime\n",
    "            \n",
    "            print(datetime.datetime.now())\n",
    "        \n",
    "        \n",
    "        \n",
    "            print(\"-----------------------------------------------------\")\n",
    "            print(\"Please proceed to the next window for your payment and shipping.\")\n",
    "            print(\"\\n - END OF OFFICIAL RECEIPT -  \\n\")\n",
    "            \n",
    "            \n",
    "            cart = [] \n",
    "            \n",
    "   \n",
    "\n",
    "\n",
    "\n",
    "    else:\n",
    "        print(\"Please Enter Y or N\")\n",
    "        add = input(\"Add more items? (Y/N): \").upper()\n",
    "        \n",
    "\n",
    "        \n"
   ]
  },
  {
   "cell_type": "markdown",
   "metadata": {},
   "source": [
    "## 3) Execute the payment and shipping system"
   ]
  },
  {
   "cell_type": "code",
   "execution_count": 12,
   "metadata": {},
   "outputs": [
    {
     "name": "stdout",
     "output_type": "stream",
     "text": [
      "                   Shipping Method                   \n",
      "Methods:\n",
      "A. Shipping \n",
      "B. Pick-up\n",
      "Please enter your preferred method for receiving your items (A/B):  B\n",
      "                   Payment Method                    \n",
      "Methods:\n",
      "A. Cash on Delivery \n",
      "B. Cash Deposit \n",
      "C. Card\n",
      "Please enter your preferred method of payment:  A\n",
      "Please enter the amount you are paying:  1\n",
      "INSUFFICIENT PAYMENT. PLEASE RETRY.\n",
      "Please enter the amount you are paying:  1\n",
      "\n",
      "\n",
      "-----------------------------------------------------\n",
      "                Payment and Shipping                 \n",
      "\n",
      "Here is your total amount: 26.0\n",
      "\n",
      "Shipping method: Pick-up selected\n",
      "\n",
      "Payment method: COD. Your change is: 74.0\n",
      "\n",
      "-----------------------------------------------------\n",
      "Thank you for shopping with us! Have a great day.\n"
     ]
    }
   ],
   "source": [
    "print(\"                   Shipping Method                   \")\n",
    "print(\"Methods:\\nA. Shipping \\nB. Pick-up\")\n",
    "shipping_method = (input(\"Please enter your preferred method for receiving your items (A/B):  \")).upper()\n",
    "if shipping_method == \"B\":\n",
    "    ship = \"Pick-up selected\"\n",
    "elif shipping_method==\"A\": \n",
    "    print(\"Please enter shipping details: \")\n",
    "    delnom = str(input(\"Street number: \"))\n",
    "    delstreet = str(input(\"Street name: \"))\n",
    "    delcity = str(input(\"City or Province: \"))\n",
    "    delarea = str(input(\"Region: \"))\n",
    "    delcode = str(input(\"Postal Code: \"))\n",
    "    ship = str(\"Shipping selected. Deliver to {} {} {}, {}. {}\".format(delnom,delstreet,delcity,delarea,delcode)) \n",
    "\n",
    "\n",
    "                   \n",
    "print(\"                   Payment Method                    \")\n",
    "print(\"Methods:\\nA. Cash on Delivery \\nB. Cash Deposit \\nC. Card\")\n",
    "payment_method = (input(\"Please enter your preferred method of payment:  \")).upper()\n",
    "\n",
    "if payment_method==\"A\":\n",
    "    givenpayment = float(input(\"Please enter the amount you are paying:  \"))\n",
    "    while givenpayment == finaltotal:\n",
    "        lastpayment = \"COD. Exact amount.\"\n",
    "        \n",
    "        print(\"\\n\")    \n",
    "        print(\"-----------------------------------------------------\")\n",
    "        print(\"                Payment and Shipping                 \\n\")\n",
    "        print(\"Here is your total amount: {}\\n\".format(finaltotal))\n",
    "        print(\"Shipping method: {}\\n\".format(ship))\n",
    "        print(\"Payment method: {}\\n\".format(lastpayment))\n",
    "        print(\"-----------------------------------------------------\")\n",
    "\n",
    "\n",
    "        print(\"Thank you for shopping with us! Have a great day.\")\n",
    "        \n",
    "        break\n",
    "        \n",
    "    while givenpayment > finaltotal:\n",
    "        check_for_change = givenpayment-finaltotal\n",
    "        lastpayment = \"COD. Your change is: {}\".format(check_for_change)\n",
    "        \n",
    "        print(\"\\n\")    \n",
    "        print(\"-----------------------------------------------------\")\n",
    "        print(\"                Payment and Shipping                 \\n\")\n",
    "        print(\"Here is your total amount: {}\\n\".format(finaltotal))\n",
    "        print(\"Shipping method: {}\\n\".format(ship))\n",
    "        print(\"Payment method: {}\\n\".format(lastpayment))\n",
    "        print(\"-----------------------------------------------------\")\n",
    "        \n",
    "        print(\"Thank you for shopping with us! Have a great day.\")\n",
    "\n",
    "        break \n",
    "        \n",
    "    if givenpayment < int(finaltotal):\n",
    "        print(\"INSUFFICIENT PAYMENT. PLEASE RETRY.\")\n",
    "        givenpayment = float(input(\"Please enter the amount you are paying:  \"))\n",
    "                       \n",
    "    \n",
    "elif payment_method==\"B\":\n",
    "    deposit_account = str(input(\"Through which bank? (BDO/BPI):  \"))\n",
    "    lastpayment = \"Deposit through {}. Please provide us with your deposit slip via this email:  \".format(deposit_account)\n",
    "elif payment_method==\"C\":\n",
    "    card_type = str(input(\"Type of card (ex. Mastercard, etc.):  \"))\n",
    "    card_name = str(input(\"Please enter the name on your credit card:  \"))\n",
    "    card_number = str(input(\"Please enter your credit card number:  \"))\n",
    "    card_expiration = str(input(\"Please enter your credit card expiration date (MM/YY):  \"))\n",
    "    card_cvv = str(input(\"Please enter the 3-digit CVV: \"))\n",
    "    lastpayment = \"{} Card. Card under the name of {}, with card number {}, expiring in {}, and 3-digit CVV of {}\".format(card_type,card_name,card_number,card_expiration,card_cvv)\n",
    "\n",
    "\n",
    "\n",
    "print(\"\\n\")    \n",
    "print(\"-----------------------------------------------------\")\n",
    "print(\"                Payment and Shipping                 \\n\")\n",
    "print(\"Here is your total amount: {}\\n\".format(finaltotal))\n",
    "print(\"Shipping method: {}\\n\".format(ship))\n",
    "print(\"Payment method: {}\\n\".format(lastpayment))\n",
    "print(\"-----------------------------------------------------\")\n",
    "\n",
    "\n",
    "print(\"Thank you for shopping with us! Have a great day.\")"
   ]
  },
  {
   "cell_type": "code",
   "execution_count": null,
   "metadata": {},
   "outputs": [],
   "source": []
  },
  {
   "cell_type": "code",
   "execution_count": 11,
   "metadata": {},
   "outputs": [
    {
     "ename": "NameError",
     "evalue": "name 'N' is not defined",
     "output_type": "error",
     "traceback": [
      "\u001b[0;31m---------------------------------------------------------------------------\u001b[0m",
      "\u001b[0;31mNameError\u001b[0m                                 Traceback (most recent call last)",
      "\u001b[0;32m<ipython-input-11-57ac1ab969a6>\u001b[0m in \u001b[0;36m<module>\u001b[0;34m\u001b[0m\n\u001b[0;32m----> 1\u001b[0;31m \u001b[0mN\u001b[0m\u001b[0;34m\u001b[0m\u001b[0;34m\u001b[0m\u001b[0m\n\u001b[0m",
      "\u001b[0;31mNameError\u001b[0m: name 'N' is not defined"
     ]
    }
   ],
   "source": [
    "NN\n",
    "N"
   ]
  }
 ],
 "metadata": {
  "kernelspec": {
   "display_name": "Python 3",
   "language": "python",
   "name": "python3"
  },
  "language_info": {
   "codemirror_mode": {
    "name": "ipython",
    "version": 3
   },
   "file_extension": ".py",
   "mimetype": "text/x-python",
   "name": "python",
   "nbconvert_exporter": "python",
   "pygments_lexer": "ipython3",
   "version": "3.7.6"
  }
 },
 "nbformat": 4,
 "nbformat_minor": 4
}
