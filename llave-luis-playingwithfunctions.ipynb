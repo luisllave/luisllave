{
 "cells": [
  {
   "cell_type": "code",
   "execution_count": 8,
   "metadata": {},
   "outputs": [
    {
     "name": "stdout",
     "output_type": "stream",
     "text": [
      "7.957728545963841\n"
     ]
    }
   ],
   "source": [
    "# 1\n",
    "\n",
    "def solve_area(circumference):\n",
    "    area = ((circumference / (2*3.1416) )**2) * 3.1416\n",
    "    print(area)\n",
    "    \n",
    "solve_area(10)\n",
    "    \n"
   ]
  },
  {
   "cell_type": "code",
   "execution_count": 12,
   "metadata": {},
   "outputs": [
    {
     "name": "stdout",
     "output_type": "stream",
     "text": [
      "\"olleH\""
     ]
    }
   ],
   "source": [
    "# 2\n",
    "\n",
    "def reverseString(string):\n",
    "    i = str(string)\n",
    "    print('\"', end=\"\")\n",
    "    print(i [4], end=\"\")\n",
    "    print(i [3], end=\"\")\n",
    "    print(i [2], end=\"\")\n",
    "    print(i [1], end=\"\")\n",
    "    print(i [0], end=\"\")\n",
    "    print('\"', end=\"\")\n",
    "  \n",
    "reverseString(\"Hello\")"
   ]
  },
  {
   "cell_type": "code",
   "execution_count": 18,
   "metadata": {},
   "outputs": [
    {
     "name": "stdout",
     "output_type": "stream",
     "text": [
      "15\n"
     ]
    }
   ],
   "source": [
    "# 3\n",
    "\n",
    "def backAddition(n):\n",
    "    i = n-1 \n",
    "    while i > 0:\n",
    "        n += i\n",
    "        i -= 1\n",
    "    print(n)\n",
    "    \n",
    "backAddition(5)\n",
    "        \n",
    "        \n",
    "        "
   ]
  },
  {
   "cell_type": "code",
   "execution_count": 32,
   "metadata": {},
   "outputs": [
    {
     "name": "stdout",
     "output_type": "stream",
     "text": [
      "25164150\n"
     ]
    }
   ],
   "source": [
    "# 4\n",
    "\n",
    "def sumofsquare(n):\n",
    "    m=n**2\n",
    "    while n > 0:\n",
    "        i = n - 1\n",
    "        m += i**2\n",
    "        n -= 1\n",
    "    if n == 0:\n",
    "        return(m)\n",
    "    \n",
    "def squareofsum(n):\n",
    "    i = n-1 \n",
    "    while i > 0:\n",
    "        n += i\n",
    "        i -= 1\n",
    "    if i == 0:\n",
    "        m = n**2\n",
    "        return(m)\n",
    "\n",
    "def answer(n):\n",
    "    x = squareofsum(n)\n",
    "    y = sumofsquare(n)\n",
    "    ans = x - y\n",
    "    print(ans)\n",
    "    \n",
    "answer(100)\n",
    "    \n",
    "        \n"
   ]
  },
  {
   "cell_type": "code",
   "execution_count": 4,
   "metadata": {},
   "outputs": [
    {
     "name": "stdout",
     "output_type": "stream",
     "text": [
      "Enter price in cents: 69\n",
      "0\n",
      "2\n",
      "1\n",
      "1\n",
      "4\n"
     ]
    }
   ],
   "source": [
    "# 5\n",
    "\n",
    "amount = int(input(\"Enter price in cents: \"))\n",
    "\n",
    "if amount > 99:\n",
    "    peso = int(str(amount)[0:len(str(amount))-2])\n",
    "else:\n",
    "    peso = 0\n",
    "    \n",
    "cents = int(str(amount)[-2:])\n",
    "\n",
    "quarter = int(cents / 25)\n",
    "\n",
    "tens = int((cents % 25)/10)\n",
    "\n",
    "fives = int(((cents % 25) % 10)/5)\n",
    "\n",
    "ones = int(((cents % 25)%10)%5)\n",
    "\n",
    "\n",
    "print(peso)\n",
    "print(quarter)\n",
    "print(tens)\n",
    "print(fives)\n",
    "print(ones)\n",
    "    \n"
   ]
  }
 ],
 "metadata": {
  "kernelspec": {
   "display_name": "Python 3",
   "language": "python",
   "name": "python3"
  },
  "language_info": {
   "codemirror_mode": {
    "name": "ipython",
    "version": 3
   },
   "file_extension": ".py",
   "mimetype": "text/x-python",
   "name": "python",
   "nbconvert_exporter": "python",
   "pygments_lexer": "ipython3",
   "version": "3.7.6"
  }
 },
 "nbformat": 4,
 "nbformat_minor": 4
}
